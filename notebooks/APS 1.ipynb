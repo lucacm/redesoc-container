{
 "cells": [
  {
   "cell_type": "code",
   "execution_count": null,
   "id": "c95880e5",
   "metadata": {},
   "outputs": [],
   "source": [
    "from netpixi.integration.gt import Graph\n",
    "\n",
    "g = Graph(directed=False) # não-dirigido"
   ]
  },
  {
   "cell_type": "code",
   "execution_count": null,
   "id": "05a5ee98",
   "metadata": {},
   "outputs": [],
   "source": [
    "with open(\"actor.edgelist.txt\") as f:\n",
    "    for line in f:\n",
    "        line_clean = line.split()\n",
    "        for i in range(2):\n",
    "            try:\n",
    "                g.add_vertex(line_clean[i])\n",
    "            except:\n",
    "                continue\n",
    "        try:\n",
    "            g.add_edge(line_clean[0], line_clean[1])\n",
    "        except:\n",
    "            continue\n",
    "            \n",
    "#     print('Total Number of lines:', lines)"
   ]
  },
  {
   "cell_type": "code",
   "execution_count": null,
   "id": "a3221b06",
   "metadata": {},
   "outputs": [],
   "source": [
    "print('número de vértices de g:', g.num_vertices())"
   ]
  },
  {
   "cell_type": "code",
   "execution_count": null,
   "id": "b8361370",
   "metadata": {},
   "outputs": [],
   "source": [
    "print('número de arestas de g:', g.num_edges())"
   ]
  },
  {
   "cell_type": "code",
   "execution_count": null,
   "id": "fc7c09af",
   "metadata": {},
   "outputs": [],
   "source": []
  },
  {
   "cell_type": "code",
   "execution_count": null,
   "id": "bcef9e7e",
   "metadata": {},
   "outputs": [],
   "source": []
  },
  {
   "cell_type": "code",
   "execution_count": null,
   "id": "8435b79f",
   "metadata": {},
   "outputs": [],
   "source": []
  }
 ],
 "metadata": {
  "kernelspec": {
   "display_name": "Python 3 (ipykernel)",
   "language": "python",
   "name": "python3"
  },
  "language_info": {
   "codemirror_mode": {
    "name": "ipython",
    "version": 3
   },
   "file_extension": ".py",
   "mimetype": "text/x-python",
   "name": "python",
   "nbconvert_exporter": "python",
   "pygments_lexer": "ipython3",
   "version": "3.10.6"
  }
 },
 "nbformat": 4,
 "nbformat_minor": 5
}
